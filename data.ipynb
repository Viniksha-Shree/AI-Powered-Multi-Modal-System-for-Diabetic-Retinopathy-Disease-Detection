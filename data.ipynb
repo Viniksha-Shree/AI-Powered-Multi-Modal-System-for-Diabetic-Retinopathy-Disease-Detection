{
 "cells": [
  {
   "cell_type": "code",
   "execution_count": 1,
   "id": "1362d616-4940-46b0-861a-35cd1bed19d1",
   "metadata": {},
   "outputs": [
    {
     "name": "stdout",
     "output_type": "stream",
     "text": [
      "CSV file 'eye_diseases_dataset.csv' created successfully with 500 rows.\n"
     ]
    }
   ],
   "source": [
    "import csv\n",
    "\n",
    "# Define the classes and their corresponding symptoms\n",
    "data = [\n",
    "    {\n",
    "        \"label\": \"Healthy\",\n",
    "        \"symptoms\": \"No symptoms, Clear vision, No pain or discomfort, Normal eye appearance, No redness or swelling, No light sensitivity\"\n",
    "    },\n",
    "    {\n",
    "        \"label\": \"Mild DR\",\n",
    "        \"symptoms\": \"Microaneurysms, Mild blurriness, Occasional floaters, Slight vision distortion, Minimal bleeding in the eye, Early signs of macular edema\"\n",
    "    },\n",
    "    {\n",
    "        \"label\": \"Moderate DR\",\n",
    "        \"symptoms\": \"Increased microaneurysms, Cotton wool spots, Mild vision loss, Venous beading, Intraretinal microvascular abnormalities, Hard exudates\"\n",
    "    },\n",
    "    {\n",
    "        \"label\": \"Proliferate DR\",\n",
    "        \"symptoms\": \"Neovascularization, Vitreous hemorrhage, Severe vision loss, Retinal detachment, Glaucoma, Macular edema, Ghost vessels\"\n",
    "    },\n",
    "    {\n",
    "        \"label\": \"Severe DR\",\n",
    "        \"symptoms\": \"Extensive neovascularization, Retinal detachment, Blindness, Severe bleeding in the eye, Complete vision loss, Pain or pressure in the eye, Visible abnormal blood vessels\"\n",
    "    }\n",
    "]\n",
    "\n",
    "# Calculate the number of replications needed to reach 500 rows\n",
    "num_replications = 500 // len(data)\n",
    "remainder = 500 % len(data)\n",
    "\n",
    "# Create the extended data list\n",
    "extended_data = data * num_replications + data[:remainder]\n",
    "\n",
    "# Specify the CSV file name\n",
    "csv_file = \"eye_diseases_dataset.csv\"\n",
    "\n",
    "# Write the data to the CSV file\n",
    "with open(csv_file, mode='w', newline='') as file:\n",
    "    writer = csv.DictWriter(file, fieldnames=[\"label\", \"symptoms\"])\n",
    "    writer.writeheader()\n",
    "    for row in extended_data:\n",
    "        writer.writerow(row)\n",
    "\n",
    "print(f\"CSV file '{csv_file}' created successfully with 500 rows.\")\n"
   ]
  },
  {
   "cell_type": "code",
   "execution_count": null,
   "id": "dfaee286-a01b-450e-addd-501d86ef660c",
   "metadata": {},
   "outputs": [],
   "source": []
  }
 ],
 "metadata": {
  "kernelspec": {
   "display_name": "Python 3 (ipykernel)",
   "language": "python",
   "name": "python3"
  },
  "language_info": {
   "codemirror_mode": {
    "name": "ipython",
    "version": 3
   },
   "file_extension": ".py",
   "mimetype": "text/x-python",
   "name": "python",
   "nbconvert_exporter": "python",
   "pygments_lexer": "ipython3",
   "version": "3.12.0"
  }
 },
 "nbformat": 4,
 "nbformat_minor": 5
}
